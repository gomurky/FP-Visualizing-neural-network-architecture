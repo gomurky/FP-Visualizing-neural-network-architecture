{
 "cells": [
  {
   "cell_type": "code",
   "execution_count": 1,
   "metadata": {},
   "outputs": [],
   "source": [
    "# Callin Switzer\n",
    "# 23 May 2017\n",
    "# Get all node values from a trained network, given a set of weights"
   ]
  },
  {
   "cell_type": "code",
   "execution_count": 2,
   "metadata": {},
   "outputs": [],
   "source": [
    "import numpy as np\n",
    "import pickle\n",
    "import os\n",
    "import pandas as pd"
   ]
  },
  {
   "cell_type": "code",
   "execution_count": 3,
   "metadata": {},
   "outputs": [],
   "source": [
    "# this function returns values of all layers\n",
    "def returnLayerValues(weights, inputData):\n",
    "    '''\n",
    "    Returns all layer values from fitted network (including input and output)\n",
    "    \n",
    "    The fitted network uses \"tanh\" activation for hidden layers and\n",
    "        \"linear\" activation for the final layer\n",
    "        \n",
    "    Params:\n",
    "        weights (list): list of weights from a fitted model\n",
    "        inputData (array or Data frame): input data that will be run through the network\n",
    "    \n",
    "    Returns:\n",
    "        layer values (list): values of all of the units in the network.\n",
    "            - the 0'th item in the list is the input data\n",
    "            - the final item in the list is the final prediction\n",
    "    '''\n",
    "    \n",
    "    LayerValues = [inputData.astype(\"float64\")]\n",
    "    for layerNum in np.arange(0, len(weights), 2):\n",
    "        \n",
    "        # calculate dot product and add bias\n",
    "        nextLayer = np.dot(LayerValues[-1], weights[layerNum]) + weights[layerNum+1]\n",
    "        \n",
    "        if layerNum != (len(weights)-2):\n",
    "            # apply activation function, except for final layer\n",
    "            nextLayer = np.tanh(nextLayer)\n",
    "        \n",
    "        # append to list\n",
    "        LayerValues.append(nextLayer)\n",
    "        \n",
    "    return(LayerValues)"
   ]
  },
  {
   "cell_type": "code",
   "execution_count": 4,
   "metadata": {},
   "outputs": [],
   "source": [
    "# load example data\n",
    "pathToTrainingX= r\"C:\\Users\\Theodore\\Dropbox\\ExampleData\\X_train_small.csv\"\n",
    "x_train = pd.read_csv(pathToTrainingX)\n",
    "\n",
    "# in case you want to compare predicted to actual, you can load the Y dataset\n",
    "pathToTrainingY= r\"C:\\Users\\Theodore\\Dropbox\\ExampleData\\Y_train_small.csv\"\n",
    "y_train = pd.read_csv(pathToTrainingY)"
   ]
  },
  {
   "cell_type": "code",
   "execution_count": 5,
   "metadata": {},
   "outputs": [
    {
     "name": "stdout",
     "output_type": "stream",
     "text": [
      "(10, 20)\n",
      "(20,)\n",
      "(20, 20)\n",
      "(20,)\n",
      "(20, 16)\n",
      "(16,)\n",
      "(16, 7)\n",
      "(7,)\n",
      "1095 total weights\n"
     ]
    }
   ],
   "source": [
    "# load weights\n",
    "pathToWeights = r\"C:\\Users\\Theodore\\Dropbox\\ExampleData\\Opt_rmsprop__Dro_0.0__Num_20_20_16__Wei_0_pruned_wts.pkl\"\n",
    "\n",
    "# read in weight data\n",
    "wts =  pickle.load(open(pathToWeights, 'rb'))\n",
    "\n",
    "# print sizes of each weight matrix\n",
    "wtLengths = []\n",
    "for ii in range(len(wts)):\n",
    "    print(wts[ii].shape)\n",
    "    wtLengths.append(np.prod(wts[ii].shape))\n",
    "\n",
    "# print total number of weights (including biases)\n",
    "print(np.sum(wtLengths), \"total weights\")"
   ]
  },
  {
   "cell_type": "code",
   "execution_count": 6,
   "metadata": {},
   "outputs": [],
   "source": [
    "# Specify upper limit for maximal layer size\n",
    "MaxSize = 100"
   ]
  },
  {
   "cell_type": "code",
   "execution_count": 7,
   "metadata": {},
   "outputs": [
    {
     "data": {
      "text/plain": [
       "5"
      ]
     },
     "execution_count": 7,
     "metadata": {},
     "output_type": "execute_result"
    }
   ],
   "source": [
    "# calculate values at each layer, using the function above\n",
    "intermediateValues = returnLayerValues(wts, inputData= x_train)\n",
    "len(intermediateValues)"
   ]
  },
  {
   "cell_type": "code",
   "execution_count": 9,
   "metadata": {},
   "outputs": [
    {
     "data": {
      "text/plain": [
       "[phi_0         -0.409348\n",
       " theta_0       -0.274196\n",
       " x_99          -0.050192\n",
       " y_99           0.231967\n",
       " phi_99        -0.181011\n",
       " theta_99      -0.134669\n",
       " x_dot_0       -0.048949\n",
       " y_dot_0        0.254013\n",
       " phi_dot_0     -0.184300\n",
       " theta_dot_0    0.382404\n",
       " Name: 100, dtype: float64,\n",
       " array([-0.00037373,  0.05526478, -0.18791812, -0.00862643,  0.14960592,\n",
       "        -0.01824989, -0.0180793 , -0.10130025, -0.15857993,  0.22719107,\n",
       "        -0.0702016 ,  0.05605233,  0.12455265,  0.0370554 , -0.05476996,\n",
       "        -0.02714874, -0.15073642, -0.05641231,  0.00412464, -0.17011276]),\n",
       " array([-0.27744069,  0.03599084, -0.54118625, -0.08809653, -0.01698564,\n",
       "         0.02638331,  0.01241272,  0.09940099, -0.36583323, -0.02034356,\n",
       "        -0.07745338,  0.03339437,  0.78730994, -0.01067186, -0.00905854,\n",
       "        -0.22131837, -0.08888072,  0.28956807, -0.03584398, -0.01646284]),\n",
       " array([ 0.05163576, -0.02724393, -0.07589541,  0.60938208,  0.76910681,\n",
       "        -0.80084544, -0.02049618,  0.11150431, -0.01621602, -0.12778386,\n",
       "        -0.01133177, -0.33266557,  0.06452594, -0.66575736,  0.69980107,\n",
       "        -0.07259189]),\n",
       " array([ 0.13103441,  0.07629611,  0.113428  ,  0.00666071,  0.09809018,\n",
       "         0.00156395, -0.05185405])]"
      ]
     },
     "execution_count": 9,
     "metadata": {},
     "output_type": "execute_result"
    }
   ],
   "source": [
    "# calculate intermediate values for only one input row\n",
    "intermediateValues = returnLayerValues(wts, inputData= x_train.iloc[100, :])\n",
    "intermediateValues"
   ]
  },
  {
   "cell_type": "markdown",
   "metadata": {},
   "source": [
    "# View the Values on the Nodes for the Input"
   ]
  },
  {
   "cell_type": "code",
   "execution_count": 11,
   "metadata": {},
   "outputs": [
    {
     "data": {
      "image/png": "[encoded data removed]",
      "text/plain": [
       "<matplotlib.figure.Figure at 0x240ac17cdd8>"
      ]
     },
     "metadata": {},
     "output_type": "display_data"
    },
    {
     "data": {
      "image/png": "[encoded data removed]",
      "text/plain": [
       "<matplotlib.figure.Figure at 0x240ac5bfdd8>"
      ]
     },
     "metadata": {},
     "output_type": "display_data"
    },
    {
     "data": {
      "image/png": "[encoded data removed]",
      "text/plain": [
       "<matplotlib.figure.Figure at 0x240ac5e86d8>"
      ]
     },
     "metadata": {},
     "output_type": "display_data"
    },
    {
     "data": {
      "image/png": "[encoded data removed]",
      "text/plain": [
       "<matplotlib.figure.Figure at 0x240ac62d780>"
      ]
     },
     "metadata": {},
     "output_type": "display_data"
    },
    {
     "data": {
      "image/png": "[encoded data removed]",
      "text/plain": [
       "<matplotlib.figure.Figure at 0x240ac66c048>"
      ]
     },
     "metadata": {},
     "output_type": "display_data"
    }
   ],
   "source": [
    "import matplotlib.pyplot as plt\n",
    "for l in intermediateValues:\n",
    "    plt.figure()\n",
    "    plt.bar(range(len(l)), l)"
   ]
  },
  {
   "cell_type": "markdown",
   "metadata": {},
   "source": [
    "# Create Weight Network Graph json File"
   ]
  },
  {
   "cell_type": "code",
   "execution_count": 13,
   "metadata": {},
   "outputs": [],
   "source": [
    "import json\n",
    "\n",
    "nodes = []\n",
    "links = []\n",
    "# iterate through the layers to get links and nodes\n",
    "for layerNum in np.arange(0, len(wts), 2):\n",
    "    m, n = wts[layerNum].shape\n",
    "    for i in range(m):\n",
    "        node_id = int(layerNum/2*MaxSize + i)\n",
    "        nodes.append({'id':node_id, 'LayerNum':int(layerNum/2), 'NodeNum':i})\n",
    "        for j in range(n):\n",
    "            source = node_id\n",
    "            target = int((layerNum/2+1)*MaxSize + j)\n",
    "            links.append({'source':source, 'target':target, 'weight':float(wts[layerNum][i,j])})\n",
    "# output layer nodes\n",
    "for l in range(len(wts[-1])):\n",
    "    node_id = int(len(wts)/2*MaxSize + l)\n",
    "    nodes.append({'id':node_id, 'LayerNum':int(len(wts)/2), 'NodeNum':i})\n",
    "# Build the network graph\n",
    "Graph = {'nodes': nodes, 'links': links}\n",
    "with open('NetworkGraph.json', 'w') as fp:\n",
    "    json.dump(Graph, fp)                      "
   ]
  },
  {
   "cell_type": "code",
   "execution_count": null,
   "metadata": {},
   "outputs": [],
   "source": []
  }
 ],
 "metadata": {
  "kernelspec": {
   "display_name": "Python 3",
   "language": "python",
   "name": "python3"
  },
  "language_info": {
   "codemirror_mode": {
    "name": "ipython",
    "version": 3
   },
   "file_extension": ".py",
   "mimetype": "text/x-python",
   "name": "python",
   "nbconvert_exporter": "python",
   "pygments_lexer": "ipython3",
   "version": "3.5.5"
  },
  "widgets": {
   "state": {},
   "version": "1.1.2"
  }
 },
 "nbformat": 4,
 "nbformat_minor": 2
}
